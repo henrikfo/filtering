{
 "cells": [
  {
   "cell_type": "markdown",
   "metadata": {},
   "source": [
    "## How to run ml-powered cloud filtering on Docker"
   ]
  },
  {
   "cell_type": "markdown",
   "metadata": {},
   "source": [
    "### Download necessary files to start the colonyos server"
   ]
  },
  {
   "cell_type": "markdown",
   "metadata": {},
   "source": [
    "wget https://raw.githubusercontent.com/colonyos/colonies/main/docker-compose.env  \n",
    "wget https://raw.githubusercontent.com/colonyos/colonies/main/docker-compose.yml  "
   ]
  },
  {
   "cell_type": "markdown",
   "metadata": {},
   "source": [
    "Then run:  \n",
    "source docker-compose.env; docker-compose up  "
   ]
  },
  {
   "cell_type": "markdown",
   "metadata": {},
   "source": [
    "### Now a colony server should start after downloading and installing all necessary components.  \n",
    "\n",
    "Try:  \n",
    "colonies colony ls  \n",
    "\n",
    "It should return:  \n",
    "NAME │ COLONYID  \n",
    "dev  │ 4787a5071856a4acf702b2ffcea422e3237a679c681314113d86139461290cf4  "
   ]
  },
  {
   "cell_type": "markdown",
   "metadata": {},
   "source": [
    "### Start by syncing a folder\n",
    "colonies fs sync -l my_cloud_filtering -d ./my_cloud_filtering --yes  \n",
    "\n",
    "#### Then check it out with  \n",
    "colonies fs label ls  \n",
    "and  \n",
    "colonies fs ls -l /my_cloud_filtering  \n",
    "To list files in the folder"
   ]
  },
  {
   "cell_type": "markdown",
   "metadata": {},
   "source": [
    "### Let's create a function specification for colonies that we will send to colonies for processing\n",
    "\n",
    "Copy the following to a .json file"
   ]
  },
  {
   "cell_type": "code",
   "execution_count": null,
   "metadata": {
    "vscode": {
     "languageId": "plaintext"
    }
   },
   "outputs": [],
   "source": [
    "{\n",
    "    \"conditions\": {\n",
    "    \t\"executortype\": \"container-executor\",\n",
    "        \"nodes\": 1,\n",
    "        \"processespernode\": 1,\n",
    "\t    \"mem\": \"10Gi\",\n",
    "        \"cpu\": \"1000m\",\n",
    "        \"gpu\": {\n",
    "            \"count\": 0\n",
    "        },\n",
    "\t\"walltime\": 1100\n",
    "    },\n",
    "    \"maxexectime\": 1000,\n",
    "    \"maxretries\": 3,\n",
    "    \"funcname\": \"execute\",\n",
    "    \"kwargs\": {\n",
    "        \"cmd\": \"cd \",\n",
    "        \"docker-image\": \"henrikforsgren/openeo:new\",\n",
    "\t\t\"args\": [\n",
    "            \"cfs/my_cloud_filtering/ ; python3 main.py\"\n",
    "\t\t]\n",
    "    },\n",
    "\t\"env\": {\n",
    "\t\t\"coords\": \"{\\\"east\\\": 14.79187736312752, \\\"south\\\": 55.991257253340635, \\\"west\\\": 14.555719745816692, \\\"north\\\": 56.10331290101734}\",\n",
    "        \"date\": \"2022-01-01\",\n",
    "\t\t\"data_source\": \"l2a\"\n",
    "\t},\n",
    "    \"fs\": {\n",
    "        \"mount\": \"/cfs\",\n",
    "        \"dirs\": [\n",
    "            {\n",
    "                \"label\": \"/my_cloud_filtering\",\n",
    "                \"dir\": \"/my_cloud_filtering\",\n",
    "                \"keepfiles\": false,\n",
    "                \"onconflicts\": {\n",
    "                    \"onstart\": {\n",
    "                        \"keeplocal\": false\n",
    "                    },\n",
    "                    \"onclose\": {\n",
    "                        \"keeplocal\": false \n",
    "                    }\n",
    "                }\n",
    "            },\n",
    "            {\n",
    "                \"label\": \"/models\",\n",
    "                \"dir\": \"/models\",\n",
    "                \"keepfiles\": false,\n",
    "                \"onconflicts\": {\n",
    "                    \"onstart\": {\n",
    "                        \"keeplocal\": false\n",
    "                    },\n",
    "                    \"onclose\": {\n",
    "                        \"keeplocal\": false \n",
    "                    }\n",
    "                }\n",
    "            },\n",
    "            {\n",
    "                \"label\": \"/outputs\",\n",
    "                \"dir\": \"/outputs\",\n",
    "                \"keepfiles\": false,\n",
    "                \"onconflicts\": {\n",
    "                    \"onstart\": {\n",
    "                        \"keeplocal\": false\n",
    "                    },\n",
    "                    \"onclose\": {\n",
    "                        \"keeplocal\": true \n",
    "                    }\n",
    "                }\n",
    "            }\n",
    "        ]\n",
    "    }\n",
    "}\n"
   ]
  },
  {
   "cell_type": "markdown",
   "metadata": {},
   "source": [
    "Important in the above .json file is the  \n",
    "\"executortype\" which controls what type of colony executor gets to run the function.  \n",
    "\"cmd\" the main command executed in the executor  \n",
    "\"args\" which tells the executor the additional commands to run  \n",
    "\"env\" contains the information the executed program in \"args\" will be able to use by collecting enviormental variables.  \n",
    "\"docker-image\" will be the container started up by the docker-executor. Make sure you create or use a container that fulfills necessary requirements, like software enviorment and python packages\n",
    "\n",
    "Finally, the \"fs\" describes how the colonies filesystem (fs) will act on start-up and closing of the process. The \"my_cloud_filtering\" and \"models\" both are just intended to load the same models and python code for each process. You can change the models and code to be executed by running \" colonies fs sync -l my_cloud_filtering -d ./my_cloud_filtering --yes \" again with updated code.  \n",
    "\n",
    "Utilize the sync.sh file to sync ALL folders to colonies fs  \n",
    "bash sync.sh  \n",
    "or run  \n",
    "colonies fs sync -l models -d ./models --yes  \n",
    "colonies fs sync -l my_cloud_filtering -d ./my_cloud_filtering --yes  \n",
    "colonies fs sync -l outputs -d ./outputs --yes  \n",
    "\n"
   ]
  },
  {
   "cell_type": "markdown",
   "metadata": {},
   "source": [
    "Now when everything is setup, we can now start sending function requests with  \n",
    "colonies function submit --spec get_cloud_free.json --follow"
   ]
  },
  {
   "cell_type": "markdown",
   "metadata": {},
   "source": [
    "You can also use process_dates.sh to send multiple processes with a date range.  \n",
    "./process_dates.sh 2022-01-01 2022-02-01\n",
    "which is equivalent to doing colonies function submit --spec filtering.json and changing the \"date\" field to every single date from 2022-01-01 to 2022-02-01  "
   ]
  },
  {
   "cell_type": "markdown",
   "metadata": {},
   "source": [
    "You can now see the processes being run and those who are in queue with  \n",
    "colonies process ps  \n",
    "and  \n",
    "colonies process psw  \n",
    "respectively "
   ]
  },
  {
   "cell_type": "markdown",
   "metadata": {},
   "source": [
    "When a image was found and determined to not be cloudy, it will be saved and uploaded to /outputs in the colony filesystem  \n",
    "check them out with  \n",
    "colonies fs ls -l /outputs  \n",
    "and download them with  \n",
    "colonies fs sync -l outputs -d ./outputs --yes  \n",
    "\n",
    "You can now find the in your local /outputs folder  \n",
    "ls /outputs"
   ]
  },
  {
   "cell_type": "markdown",
   "metadata": {},
   "source": []
  }
 ],
 "metadata": {
  "kernelspec": {
   "display_name": "cot_env",
   "language": "python",
   "name": "python3"
  },
  "language_info": {
   "codemirror_mode": {
    "name": "ipython",
    "version": 3
   },
   "file_extension": ".py",
   "mimetype": "text/x-python",
   "name": "python",
   "nbconvert_exporter": "python",
   "pygments_lexer": "ipython3",
   "version": "3.10.15"
  }
 },
 "nbformat": 4,
 "nbformat_minor": 2
}
